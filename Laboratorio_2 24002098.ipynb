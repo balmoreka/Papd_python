{
 "cells": [
  {
   "cell_type": "markdown",
   "id": "c5790855-446d-45ee-a743-a71fde9991a0",
   "metadata": {
    "jp-MarkdownHeadingCollapsed": true,
    "tags": []
   },
   "source": [
    "# Ejercicio 1"
   ]
  },
  {
   "cell_type": "markdown",
   "id": "c5117ef9-6d0a-4102-ab7c-484b62c57ef5",
   "metadata": {},
   "source": [
    "Haga un programa en Python que reciba de parametro un numero de segundos y que despliegue en pantalla, las horas, minutos y segundos que representan."
   ]
  },
  {
   "cell_type": "code",
   "execution_count": 51,
   "id": "e020a585-2112-4d85-a12d-766845937109",
   "metadata": {
    "tags": []
   },
   "outputs": [],
   "source": [
    "def Detalle_tiempo(segs):\n",
    "    import numpy as np\n",
    "    try:\n",
    "        if (segs>0):\n",
    "            Horas = np.floor(segs/3600)\n",
    "            segs = segs-Horas*3600\n",
    "            Mins = np.floor((segs)/60)\n",
    "            segs = segs-Mins*60\n",
    "            result = f\"Detalle: {Horas} Horas, {Mins} Minutos y {segs} Segundos\"\n",
    "    except Exception as Ex:\n",
    "            result = \"ERROR: Debe colocar un numero como parametro de la función, usted a colocado un: \" +str(type(segs))\n",
    "    else:\n",
    "        result = \"ERROR: El numero de segundos debe ser mayor a cero\"\n",
    "    return print(result)"
   ]
  },
  {
   "cell_type": "code",
   "execution_count": 52,
   "id": "b932df6c-8141-4304-a181-4a6c9f60971d",
   "metadata": {
    "tags": []
   },
   "outputs": [
    {
     "name": "stdout",
     "output_type": "stream",
     "text": [
      "ERROR: Debe colocar un numero como parametro de la función, usted a colocado un: <class 'list'>\n"
     ]
    }
   ],
   "source": [
    "Detalle_tiempo([5,4])"
   ]
  },
  {
   "cell_type": "markdown",
   "id": "c30af3d4-6d6e-46ae-a8df-d31f04eb7601",
   "metadata": {
    "jp-MarkdownHeadingCollapsed": true,
    "tags": []
   },
   "source": [
    "# Ejercicio 2"
   ]
  },
  {
   "cell_type": "code",
   "execution_count": 29,
   "id": "6350d584-b366-49c7-9e8b-010f4a15038f",
   "metadata": {
    "tags": []
   },
   "outputs": [],
   "source": [
    "def Triangle(num=6,simb=\"A\"):\n",
    "    if (not(type(simb) is str)):\n",
    "        print('ERROR: Debe colocar solamente un carácter como segundo argumento de la función')\n",
    "    elif (len(simb)>1):\n",
    "        print('ERROR: solamente debes colocar un carácter en el segundo argumento de la función')\n",
    "    elif ((not(type(num) is int))):\n",
    "        print('ERROR: El primer argumento debe ser un número entero entre 1 y 20')\n",
    "    elif ((num<1)|(num>20)):\n",
    "        print('ERROR: El primer argumento debe ser un número entero entre 1 y 20')\n",
    "    else:\n",
    "        i = 1\n",
    "        while i<=num:\n",
    "            print(simb*i)\n",
    "            i += 1\n",
    "        print(' ')\n",
    "        i = num\n",
    "        while i>0:\n",
    "            print(simb*i)\n",
    "            i = i-1\n",
    "        print(' ')\n",
    "        i = 1\n",
    "        while i<=num:\n",
    "            print(' '*(num-i)+simb*i)\n",
    "            i +=1\n",
    "        print(' ')\n",
    "        i = num\n",
    "        while i>0:\n",
    "            print(' '*(num-i)+simb*i)\n",
    "            i = i-1"
   ]
  },
  {
   "cell_type": "code",
   "execution_count": 36,
   "id": "5315c65a-da1f-410f-bb9d-6d53ba2f90f3",
   "metadata": {
    "tags": []
   },
   "outputs": [
    {
     "name": "stdout",
     "output_type": "stream",
     "text": [
      "A\n",
      "AA\n",
      "AAA\n",
      "AAAA\n",
      "AAAAA\n",
      "AAAAAA\n",
      " \n",
      "AAAAAA\n",
      "AAAAA\n",
      "AAAA\n",
      "AAA\n",
      "AA\n",
      "A\n",
      " \n",
      "     A\n",
      "    AA\n",
      "   AAA\n",
      "  AAAA\n",
      " AAAAA\n",
      "AAAAAA\n",
      " \n",
      "AAAAAA\n",
      " AAAAA\n",
      "  AAAA\n",
      "   AAA\n",
      "    AA\n",
      "     A\n"
     ]
    }
   ],
   "source": [
    "Triangle()"
   ]
  },
  {
   "cell_type": "markdown",
   "id": "7e90785e-bfce-458d-86b3-63418b050dfa",
   "metadata": {
    "jp-MarkdownHeadingCollapsed": true,
    "tags": []
   },
   "source": [
    "# Ejercicio 3"
   ]
  },
  {
   "cell_type": "code",
   "execution_count": 186,
   "id": "a5e3f985-7bb9-4941-a14b-631dfc3a6485",
   "metadata": {
    "tags": []
   },
   "outputs": [],
   "source": [
    "def Edad(dia, mes, año):\n",
    "    if ((type(dia) is int) and (type(mes) is int) and (type(año) is int)):\n",
    "        import datetime as dt\n",
    "        from dateutil.relativedelta import relativedelta\n",
    "        try:\n",
    "            birth = dt.datetime(año,mes,dia)\n",
    "            today = dt.datetime.now()\n",
    "            edad = int(np.floor((today-birth).days/365))\n",
    "            edad = edad + (-1 if ((birth + relativedelta(years=edad))>today) else 0)\n",
    "            last_cumpl =  birth + relativedelta(years=edad)\n",
    "            \n",
    "            meses = int(np.floor((today-last_cumpl).days/30))\n",
    "            meses = meses + (-1 if ((last_cumpl + relativedelta(months=meses))>today) else 0)\n",
    "            last_cumpl_month = last_cumpl + relativedelta(months=meses)\n",
    "            \n",
    "            dias = int((today-last_cumpl_month).days)\n",
    "                        \n",
    "            print(f'Su edad es {edad} años, {meses} meses y {dias} dias')\n",
    "            return last_cumpl\n",
    "        except:\n",
    "            print('Los numeros ingresados no pueden formar una fecha')\n",
    "    else:\n",
    "        print('ERROR: los 3 argumento deben ser enteros')"
   ]
  },
  {
   "cell_type": "code",
   "execution_count": 187,
   "id": "aa0396c2-f20e-466c-bfc4-09729eb89566",
   "metadata": {
    "tags": []
   },
   "outputs": [
    {
     "name": "stdout",
     "output_type": "stream",
     "text": [
      "Su edad es 23 años, 11 meses y 30 dias\n"
     ]
    },
    {
     "data": {
      "text/plain": [
       "datetime.datetime(2023, 2, 26, 0, 0)"
      ]
     },
     "execution_count": 187,
     "metadata": {},
     "output_type": "execute_result"
    }
   ],
   "source": [
    "Edad(26,2,2000)"
   ]
  },
  {
   "cell_type": "markdown",
   "id": "3d25d1d3-1e7d-4493-a82b-c4c440a47287",
   "metadata": {
    "jp-MarkdownHeadingCollapsed": true,
    "tags": []
   },
   "source": [
    "# Ejercicio 4"
   ]
  },
  {
   "cell_type": "code",
   "execution_count": 206,
   "id": "9a56c6f9-f415-4c00-9621-3e4fb5730c00",
   "metadata": {
    "tags": []
   },
   "outputs": [],
   "source": [
    "def Tuple_to_text(tupla=(5,3,4)):\n",
    "    if (type(tupla) is tuple):\n",
    "        return ''.join(str(x) for x in tupla)\n",
    "    else:\n",
    "        print('ERROR: El parametro debe ser una tupla')"
   ]
  },
  {
   "cell_type": "code",
   "execution_count": 208,
   "id": "8eaaa907-79de-40c6-a739-2fdace3c655e",
   "metadata": {
    "tags": []
   },
   "outputs": [
    {
     "name": "stdout",
     "output_type": "stream",
     "text": [
      "ERROR: El parametro debe ser una tupla\n"
     ]
    }
   ],
   "source": [
    "Tuple_to_text('Hola')"
   ]
  },
  {
   "cell_type": "markdown",
   "id": "bd426bb7-edff-4770-8031-db06df049132",
   "metadata": {
    "jp-MarkdownHeadingCollapsed": true,
    "tags": []
   },
   "source": [
    "# Ejercicio 5"
   ]
  },
  {
   "cell_type": "code",
   "execution_count": 232,
   "id": "68d69c52-1b17-4f5b-b815-e8a5fcce4395",
   "metadata": {
    "tags": []
   },
   "outputs": [],
   "source": [
    "def Tuple_empty(l_tuples=[(2,3),(),('X'),(),('a','b','c')]):\n",
    "    return [x for x in l_tuples if len(x)>0 ]"
   ]
  },
  {
   "cell_type": "code",
   "execution_count": 233,
   "id": "d68f396b-a77b-4a7a-bcf3-546bd0584bbf",
   "metadata": {
    "tags": []
   },
   "outputs": [
    {
     "data": {
      "text/plain": [
       "[(2, 3), 'X', ('a', 'b', 'c')]"
      ]
     },
     "execution_count": 233,
     "metadata": {},
     "output_type": "execute_result"
    }
   ],
   "source": [
    "Tuple_empty()"
   ]
  },
  {
   "cell_type": "markdown",
   "id": "67339feb-2bbb-4afe-b62b-77cad8fcefb2",
   "metadata": {
    "jp-MarkdownHeadingCollapsed": true,
    "tags": []
   },
   "source": [
    "# Ejercicio 6"
   ]
  },
  {
   "cell_type": "code",
   "execution_count": 246,
   "id": "f06faf61-15e2-44ca-a132-67831d8e38f0",
   "metadata": {
    "tags": []
   },
   "outputs": [],
   "source": [
    "def Tuple_avg(t_tuple=((10, 10, 10, 12), (30, 45, 56, 45), (81, 80, 39, 32))):\n",
    "    import numpy as np\n",
    "    a = [np.mean(x) for x in t_tuple]\n",
    "    return tuple(a)"
   ]
  },
  {
   "cell_type": "code",
   "execution_count": 249,
   "id": "23722484-b295-4994-8cd3-7eb280308b3f",
   "metadata": {
    "tags": []
   },
   "outputs": [
    {
     "data": {
      "text/plain": [
       "(10.5, 44.0, 58.0)"
      ]
     },
     "execution_count": 249,
     "metadata": {},
     "output_type": "execute_result"
    }
   ],
   "source": [
    "Tuple_avg()"
   ]
  },
  {
   "cell_type": "markdown",
   "id": "85c5346e-1050-4d3d-a128-5de58ef9ed88",
   "metadata": {
    "jp-MarkdownHeadingCollapsed": true,
    "tags": []
   },
   "source": [
    "# Ejercicio 7"
   ]
  },
  {
   "cell_type": "code",
   "execution_count": 327,
   "id": "cf2b17cf-fed4-4da2-888f-39d30cc8932f",
   "metadata": {
    "tags": []
   },
   "outputs": [],
   "source": [
    "Facturas_pend = {14255:500, 14256:600, 14258:300}"
   ]
  },
  {
   "cell_type": "code",
   "execution_count": 320,
   "id": "d8be3f8d-2db8-4175-808d-b3bfbc7452c1",
   "metadata": {
    "tags": []
   },
   "outputs": [],
   "source": [
    "def dict_to_DF(dict_data):\n",
    "    import pandas as pd\n",
    "    a = pd.Series(dict_data, name='Monto')\n",
    "    a.index.name = '# Factura'\n",
    "    a = pd.DataFrame(a).reset_index()\n",
    "    return a"
   ]
  },
  {
   "cell_type": "code",
   "execution_count": 335,
   "id": "8bfead49-4937-4235-885d-f38007fabb56",
   "metadata": {
    "tags": []
   },
   "outputs": [],
   "source": [
    "def Gestor(Fact = Facturas_pend):\n",
    "    import pandas as pd\n",
    "    print('ESTATUS')\n",
    "    print(dict_to_DF(Fact))\n",
    "    try:\n",
    "        while True:\n",
    "            opc = int(input('Porfavor ingrese un numero:\\n 1. Añadir factura.\\n 2. Pagar factura.\\n 3. Terminar'))\n",
    "            if opc in [1,2,3]:\n",
    "                if opc==1:\n",
    "                    while True:\n",
    "                        fact_num = input('Favor digitar numero de factura')\n",
    "                        if fact_num.isnumeric():\n",
    "                            fact_num = int(fact_num)\n",
    "                            break\n",
    "                        else:\n",
    "                            print('Debe ser un numero')\n",
    "                    while True:\n",
    "                        fact_monto = (input('Favor digitar monto de factura (como numero)'))\n",
    "                        if fact_monto.isnumeric():\n",
    "                            fact_monto = int(fact_monto)\n",
    "                            break\n",
    "                        else:\n",
    "                            print('Debe ser un numero')\n",
    "                    Fact[fact_num] = fact_monto\n",
    "                    print('Factura Agregada')\n",
    "                    print('ESTATUS')\n",
    "                    print(dict_to_DF(Fact))\n",
    "                elif opc==2:\n",
    "                    while True:\n",
    "                        fact_num = input('Favor digitar numero de factura a pagar (como numero)')\n",
    "                        if fact_num.isnumeric():\n",
    "                            fact_num = int(fact_num)\n",
    "                            if fact_num in Fact.keys():\n",
    "                                break\n",
    "                            else:\n",
    "                                print('Debe digitar un numero de factura valido\\n')\n",
    "                                print(dict_to_DF(Fact))\n",
    "                        else:\n",
    "                            print('Debe ser un numero')     \n",
    "                    del Fact[fact_num]\n",
    "                    print(f'Factura {fact_num} eliminada')\n",
    "                    print('ESTATUS')\n",
    "                    print(dict_to_DF(Fact))\n",
    "                elif opc==3:\n",
    "                    print('Saliendo...')\n",
    "                    break\n",
    "            else:\n",
    "                print('Debe elegir un numero entre 1 y 3:\\n 1. Añadir factura.\\n 2. Pagar factura.\\n 3. Terminar')\n",
    "    except:\n",
    "        print('Error')"
   ]
  },
  {
   "cell_type": "code",
   "execution_count": 337,
   "id": "03d8dd29-15b0-4f51-bda2-4b615ea27b40",
   "metadata": {
    "tags": []
   },
   "outputs": [
    {
     "name": "stdout",
     "output_type": "stream",
     "text": [
      "ESTATUS\n",
      "   # Factura  Monto\n",
      "0      14255    500\n",
      "1      14256    600\n",
      "2      14258    300\n",
      "3      14300   1000\n"
     ]
    },
    {
     "name": "stdin",
     "output_type": "stream",
     "text": [
      "Porfavor ingrese un numero:\n",
      " 1. Añadir factura.\n",
      " 2. Pagar factura.\n",
      " 3. Terminar 1\n",
      "Favor digitar numero de factura 14500\n",
      "Favor digitar monto de factura (como numero) 200\n"
     ]
    },
    {
     "name": "stdout",
     "output_type": "stream",
     "text": [
      "Factura Agregada\n",
      "ESTATUS\n",
      "   # Factura  Monto\n",
      "0      14255    500\n",
      "1      14256    600\n",
      "2      14258    300\n",
      "3      14300   1000\n",
      "4      14500    200\n"
     ]
    },
    {
     "name": "stdin",
     "output_type": "stream",
     "text": [
      "Porfavor ingrese un numero:\n",
      " 1. Añadir factura.\n",
      " 2. Pagar factura.\n",
      " 3. Terminar 3\n"
     ]
    },
    {
     "name": "stdout",
     "output_type": "stream",
     "text": [
      "Saliendo...\n"
     ]
    }
   ],
   "source": [
    "Gestor()"
   ]
  },
  {
   "cell_type": "markdown",
   "id": "fe63a639-9e27-4941-bbf3-34761daf70ed",
   "metadata": {
    "jp-MarkdownHeadingCollapsed": true,
    "tags": []
   },
   "source": [
    "# Ejercicio 8"
   ]
  },
  {
   "cell_type": "code",
   "execution_count": 353,
   "id": "15cf6c09-8e58-4f72-a6f0-0685380f4594",
   "metadata": {
    "tags": []
   },
   "outputs": [],
   "source": [
    "def Baraja():\n",
    "    Tipo = ['T','C','P','E']\n",
    "    Numero = [str(x) if len(str(x))>=2 else '0'+str(x) for x in range(1,14)]\n",
    "    return [t+n for t in Tipo for n in Numero]"
   ]
  },
  {
   "cell_type": "code",
   "execution_count": 420,
   "id": "90f84ba4-b714-42dd-aaf8-6562b8286c7e",
   "metadata": {
    "tags": []
   },
   "outputs": [],
   "source": [
    "def split_2_sets(set_o, len1, len2):\n",
    "    set1 = set([set_o[i] for i in np.random.choice(len(set_o), size=len1)])\n",
    "    set2 = set([set_o[i] for i in np.random.choice(len(set_o), size=len2)])\n",
    "    inter = set1.intersection(set2)\n",
    "    union = set1.union(set2)\n",
    "    prob_i = len(inter)/len(set_o)\n",
    "    prob1 = len(set1)/len(set_o)\n",
    "    prob2 = len(set2)/len(set_o)\n",
    "    prob_u = len(union)/len(set_o)\n",
    "    independencia = 'independientes' if (prob_i==(prob1*prob2)) else 'no independientes'\n",
    "    adicion = prob1 + prob2 - prob_i\n",
    "    print(f'Probabilidad intersección ambos sets: {prob_i}')\n",
    "    print(f'Los dos sets son eventos {independencia}')\n",
    "    print(f'Probabilidad de unión de ambos sets {prob_u}')\n",
    "    print(f'Se cumple la regla de la adición porque Prob Union: {prob_u} es igual a: {adicion}')\n",
    "    return (set1, set2)"
   ]
  },
  {
   "cell_type": "code",
   "execution_count": 421,
   "id": "bb046b4c-d481-47fd-b567-5bb47c2116a5",
   "metadata": {
    "tags": []
   },
   "outputs": [
    {
     "name": "stdout",
     "output_type": "stream",
     "text": [
      "Probabilidad intersección ambos sets: 0.057692307692307696\n",
      "Los dos sets son eventos no independientes\n",
      "Probabilidad de unión de ambos sets 0.40384615384615385\n",
      "Se cumple la regla de la adición porque Prob Union: 0.40384615384615385 es igual a: 0.40384615384615385\n"
     ]
    }
   ],
   "source": [
    "_, _ = split_2_sets(Baraja(),10,15)"
   ]
  },
  {
   "cell_type": "code",
   "execution_count": null,
   "id": "723e0899-a8f5-4b05-88a8-6a957e979e6c",
   "metadata": {},
   "outputs": [],
   "source": []
  }
 ],
 "metadata": {
  "kernelspec": {
   "display_name": "Python 3 (ipykernel)",
   "language": "python",
   "name": "python3"
  },
  "language_info": {
   "codemirror_mode": {
    "name": "ipython",
    "version": 3
   },
   "file_extension": ".py",
   "mimetype": "text/x-python",
   "name": "python",
   "nbconvert_exporter": "python",
   "pygments_lexer": "ipython3",
   "version": "3.9.18"
  }
 },
 "nbformat": 4,
 "nbformat_minor": 5
}
